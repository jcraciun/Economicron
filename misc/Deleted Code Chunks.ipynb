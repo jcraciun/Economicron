{
 "cells": [
  {
   "cell_type": "markdown",
   "id": "ee98230b-2dfb-4ec2-9b52-3759092b51e0",
   "metadata": {},
   "source": [
    "### Delteted Code Chunks"
   ]
  },
  {
   "cell_type": "code",
   "execution_count": null,
   "id": "e4544706-d4de-4d3f-b339-c4b1bd174669",
   "metadata": {},
   "outputs": [],
   "source": [
    "figure1 = px.scatter(october_19_2020, x = \"StringencyIndex\", y = \"ConfirmedCases\", size = \"POP\",\n",
    "          hover_name = \"COUNTRY\", color = 'Continent', color_discrete_sequence = ['slateblue', 'darkslateblue', 'royalblue', 'navy', 'lightsteelblue', 'darkmagenta'],\n",
    "                     template = \"simple_white\",\n",
    "          size_max = 10)\n",
    "figure1.update_layout(height = 200,\n",
    "                 title_text = \"Comparison between a Country's Stringency Index and Confirmed Cases\"\n",
    "                 )\n",
    "figure1.update_xaxes(range = [10, 90])\n",
    "\n",
    "figure1.show()"
   ]
  },
  {
   "cell_type": "code",
   "execution_count": 15,
   "id": "86ab7de5-0083-4d3e-8bbd-c0954330fc27",
   "metadata": {},
   "outputs": [],
   "source": [
    "import pandas as pd\n",
    "import numpy as np"
   ]
  },
  {
   "cell_type": "code",
   "execution_count": null,
   "id": "0cc81f25-6070-4ea5-9f93-244dc3b4a7cf",
   "metadata": {},
   "outputs": [],
   "source": [
    "cases_2022 = pd.pivot_table(data = to_jan_2022.loc[(to_jan_2022['Date'] > datetime.date(2020, 10, 19))], \n",
    "                    index = 'Continent',\n",
    "                    values = 'ConfirmedCases',\n",
    "                    columns = 'Date')\n",
    "\n",
    "# create figure and plot space \n",
    "fig, ax = plt.subplots(1, 1, figsize = (40, 20))\n",
    "sns.heatmap(cases_2022, cmap = 'BuPu');\n",
    "\n",
    "ax = cases_2022.set_index(cases_2022.dt.map(lambda s: s.strftime('%b-%Y')))\\\n",
    ".plot.\n",
    "\n",
    "ax.yaxis.labelpad = 30;\n",
    "plt.ylabel('Continent', fontsize = 30);\n",
    "plt.title('Cases October 19, 2020 to Jan 28, 2022', size = 30, pad = 20);\n",
    "plt.show()\n",
    "\n",
    "# add space between y label and axis \n",
    "# plot chart by month"
   ]
  },
  {
   "cell_type": "code",
   "execution_count": null,
   "id": "86ca997b-08b0-4afa-bb86-010bfaf7156f",
   "metadata": {},
   "outputs": [],
   "source": [
    "from matplotlib import dates as mdates"
   ]
  },
  {
   "cell_type": "code",
   "execution_count": null,
   "id": "33e040ea-279d-47e7-b2d6-197b2d417f0e",
   "metadata": {},
   "outputs": [],
   "source": [
    "cases_2022 = pd.pivot_table(data = to_jan_2022.loc[(to_jan_2022['Date'] > datetime.date(2020, 10, 19))], \n",
    "                    index = 'Continent',\n",
    "                    values = 'ConfirmedCases',\n",
    "                    columns = 'Date')\n",
    "\n",
    "plt.subplots(figsize = (40, 20))\n",
    "sns.heatmap(cases_2022, cmap = 'BuPu');\n",
    "plt.rc('ytick', labelsize = 30);\n",
    "\n",
    "plt.ylabel('Continent', fontsize = 30);\n",
    "plt.xlabel('Date', fontsize = 30);\n",
    "plt.title('Cases October 19, 2020 to Jan 28, 2022', size = 30, pad = 20);\n",
    "plt.show()\n",
    "\n",
    "# add space between y label and axis \n",
    "# plot chart by month"
   ]
  },
  {
   "cell_type": "code",
   "execution_count": null,
   "id": "b017e070-a7c6-4170-a520-e78e48f2b084",
   "metadata": {},
   "outputs": [],
   "source": [
    "cases_2022 = pd.pivot_table(data = to_jan_2022.loc[(to_jan_2022['Date'] > datetime.date(2020, 10, 19))], \n",
    "                    index = 'Continent',\n",
    "                    values = 'ConfirmedCases',\n",
    "                    columns = 'Date')\n",
    "\n",
    "# create figure and plot space \n",
    "fig, ax = plt.subplots(1, 1, figsize = (40, 20))\n",
    "sns.heatmap(cases_2022, cmap = 'BuPu');\n",
    "\n",
    "# enlarge the y-axis labels \n",
    "plt.rc('ytick', labelsize = 30);\n",
    "\n",
    "# tics per month\n",
    "fmt_month = mdates.MonthLocator()\n",
    "# ticks per year \n",
    "fmt_year = mdates.YearLocator()\n",
    "\n",
    "# define the date format \n",
    "\n",
    "date_form = DateFormatter('%m')\n",
    "ax.xaxis.set_major_formatter(date_form)\n",
    "ax.xaxis.set_major_locator(mdates.fmt_month)\n",
    "\n",
    "# ax.xaxis.set_minor_locator(fmt_month)\n",
    "# ax.xaxis.set_minor_formatter(mdates.ConciseDateFormatter('%b'))\n",
    "# ax.xaxis.set_major_locator(fmt_year)\n",
    "# ax.xaxis.set_major_formatter(mdates.ConsiseDateFormatter('%b'))\n",
    "\n",
    "# ax.tick_params(labelsize=20, which='both')\n",
    "# # create a second x-axis beneath the first x-axis to show the year in YYYY format\n",
    "# sec_xaxis = ax.secondary_xaxis(-0.1)\n",
    "# sec_xaxis.xaxis.set_major_locator(fmt_year)\n",
    "# sec_xaxis.xaxis.set_major_formatter(mdates.ConciseDateFormatter('%Y'))\n",
    "\n",
    "# Hide the second x-axis spines and ticks\n",
    "#sec_xaxis.spines['bottom'].set_visible(False)\n",
    "#sec_xaxis.tick_params(length=0, labelsize=35)\n",
    "\n",
    "ax.yaxis.labelpad = 30;\n",
    "plt.ylabel('Continent', fontsize = 30);\n",
    "plt.title('Cases October 19, 2020 to Jan 28, 2022', size = 30, pad = 20);\n",
    "plt.show()\n",
    "\n",
    "# add space between y label and axis \n",
    "# plot chart by month"
   ]
  },
  {
   "cell_type": "code",
   "execution_count": null,
   "id": "855c0a74-a70b-42e6-bc24-37007e1695f5",
   "metadata": {},
   "outputs": [],
   "source": [
    "cases_2022 = pd.pivot_table(data = to_jan_2022.loc[(to_jan_2022['Date'] > datetime.date(2020, 10, 19))], \n",
    "                    index = 'Continent',\n",
    "                    values = 'ConfirmedCases',\n",
    "                    columns = 'Date')\n",
    "\n",
    "# create figure and plot space \n",
    "fig, ax = plt.subplots(1, 1, figsize = (40, 20))\n",
    "sns.heatmap(cases_2022, cmap = 'BuPu');\n",
    "\n",
    "# enlarge the y-axis labels \n",
    "plt.rc('ytick', labelsize = 30);\n",
    "\n",
    "# tics per month\n",
    "month = mdates.MonthLocator()\n",
    "# ticks per year \n",
    "year = mdates.YearLocator()\n",
    "\n",
    "# define the date format \n",
    "years_fmt = mdates.DateFormatter('%Y')\n",
    "months_fmt = mdates.DateFormatter('%b')\n",
    "\n",
    "ax.xaxis.set_minor_locator(month)\n",
    "ax.xaxis.set_minor_formatter(months_fmt)\n",
    "\n",
    "ax.xaxis.set_major_locator(year)\n",
    "ax.xaxis.set_major_formatter(years_fmt)\n",
    "\n",
    "sec_xaxis = ax.secondary_axis(-.01)\n",
    "sec_xaxis.xaxis.set_major_locator(years_fmt)\n",
    "sec_xaxis.xaxis.set_major_formatter(mdates.DateFormatter('%Y'))\n",
    "\n",
    "sec_xaxis.spines['bottom'].set_visible(False)\n",
    "sec_xaxis.tick_params(length=0, labelsize=35)\n",
    "\n",
    "ax.yaxis.labelpad = 30;\n",
    "plt.ylabel('Continent', fontsize = 30);\n",
    "plt.title('Cases October 19, 2020 to Jan 28, 2022', size = 30, pad = 20);\n",
    "plt.show()\n",
    "\n",
    "# add space between y label and axis \n",
    "# plot chart by month"
   ]
  },
  {
   "cell_type": "code",
   "execution_count": 90,
   "id": "2226ff2a-8aa9-44b9-8fec-85c4dca0630b",
   "metadata": {},
   "outputs": [
    {
     "data": {
      "text/html": [
       "<div>\n",
       "<style scoped>\n",
       "    .dataframe tbody tr th:only-of-type {\n",
       "        vertical-align: middle;\n",
       "    }\n",
       "\n",
       "    .dataframe tbody tr th {\n",
       "        vertical-align: top;\n",
       "    }\n",
       "\n",
       "    .dataframe thead th {\n",
       "        text-align: right;\n",
       "    }\n",
       "</style>\n",
       "<table border=\"1\" class=\"dataframe\">\n",
       "  <thead>\n",
       "    <tr style=\"text-align: right;\">\n",
       "      <th></th>\n",
       "      <th>CountryName</th>\n",
       "      <th>Date</th>\n",
       "      <th>H7_Vaccination policy</th>\n",
       "      <th>DATE</th>\n",
       "      <th>Date_Fixed</th>\n",
       "    </tr>\n",
       "  </thead>\n",
       "  <tbody>\n",
       "    <tr>\n",
       "      <th>0</th>\n",
       "      <td>Aruba</td>\n",
       "      <td>20200101</td>\n",
       "      <td>0.0</td>\n",
       "      <td>1/1/2020</td>\n",
       "      <td>1/1/2020</td>\n",
       "    </tr>\n",
       "    <tr>\n",
       "      <th>1</th>\n",
       "      <td>Aruba</td>\n",
       "      <td>20200102</td>\n",
       "      <td>0.0</td>\n",
       "      <td>1/2/2020</td>\n",
       "      <td>1/2/2020</td>\n",
       "    </tr>\n",
       "    <tr>\n",
       "      <th>2</th>\n",
       "      <td>Aruba</td>\n",
       "      <td>20200103</td>\n",
       "      <td>0.0</td>\n",
       "      <td>1/3/2020</td>\n",
       "      <td>1/3/2020</td>\n",
       "    </tr>\n",
       "  </tbody>\n",
       "</table>\n",
       "</div>"
      ],
      "text/plain": [
       "  CountryName      Date  H7_Vaccination policy      DATE Date_Fixed\n",
       "0       Aruba  20200101                    0.0  1/1/2020   1/1/2020\n",
       "1       Aruba  20200102                    0.0  1/2/2020   1/2/2020\n",
       "2       Aruba  20200103                    0.0  1/3/2020   1/3/2020"
      ]
     },
     "execution_count": 90,
     "metadata": {},
     "output_type": "execute_result"
    }
   ],
   "source": [
    "non_missing = pd.read_csv('OxCGRT_latest_non_missing_col.csv')\n",
    "non_missing.head(3)"
   ]
  },
  {
   "cell_type": "code",
   "execution_count": null,
   "id": "a566131d-1dbe-47f7-9c1d-2802ce0f0cc1",
   "metadata": {},
   "outputs": [],
   "source": [
    "#new_category = final_data\n",
    "#new_category.iloc[:, np.r_[9:27, 28:33, 35:41]] = pd.Categorical(\n",
    "#    new_category.iloc[:, np.r_[9:27, 28:33, 35:41]], ordered = True)"
   ]
  },
  {
   "cell_type": "code",
   "execution_count": 21,
   "id": "9b02817e-c0db-449f-b5e7-3231cefd3728",
   "metadata": {},
   "outputs": [],
   "source": [
    "#non_missing['Date_Fixed'] = pd.to_datetime(non_missing.Date_Fixed)"
   ]
  },
  {
   "cell_type": "code",
   "execution_count": 91,
   "id": "b48f0e3b-3ce4-41d1-8eba-2c66589fd278",
   "metadata": {},
   "outputs": [
    {
     "data": {
      "text/plain": [
       "241488"
      ]
     },
     "execution_count": 91,
     "metadata": {},
     "output_type": "execute_result"
    }
   ],
   "source": [
    "len(non_missing)"
   ]
  },
  {
   "cell_type": "code",
   "execution_count": null,
   "id": "a2c3b82d-d959-4529-8c70-ef8073aaf497",
   "metadata": {},
   "outputs": [],
   "source": [
    "final_data_categorical.iloc[:, np.r_[9:27, 28:33, 35:41]]"
   ]
  },
  {
   "cell_type": "code",
   "execution_count": null,
   "id": "d6476cb1-695c-43bc-9f35-ad7474d9026b",
   "metadata": {},
   "outputs": [],
   "source": [
    "fig_stringency_deaths, ax = plt.subplots()\n",
    "\n",
    "sns.boxplot(x=\"total_cases\", y=\"H2_Testing policy\", data=final_data_categorical, \n",
    "            orient=\"h\", \n",
    "            palette= {0:'blue', 1:'yellow', 2:'green', 3:'red'},\n",
    "            ax=ax)\n",
    "\n",
    "ax.get_yaxis().set_visible(False)\n",
    "\n",
    "fig_stringency_deaths.suptitle(\"Testing Policy vs. COVID Cases\")\n",
    "fig_stringency_deaths.set_size_inches(10, 8)\n",
    "#color_patches = [\n",
    "#    Patch(facecolor=\"blue\", label=\"survived\"),\n",
    "#    Patch(facecolor=\"green\", label=\"did not survive\")\n",
    "#]\n",
    "#ax.legend(handles=color_patches);"
   ]
  },
  {
   "cell_type": "code",
   "execution_count": null,
   "id": "248bbd81-f249-4d29-8214-514197c5df1f",
   "metadata": {},
   "outputs": [],
   "source": [
    "kcolors=['#F73972','#F2B3C6','#144962']\n",
    "# create the plot\n",
    "plt.figure(figsize=(50,20))\n",
    "catscatter(final_data_categorical,'Investor',, ratio=20)\n",
    "plt.xticks(fontsize=20)\n",
    "plt.yticks(fontsize=20)\n",
    "plt.show()"
   ]
  },
  {
   "cell_type": "code",
   "execution_count": 92,
   "id": "81925dc7-6d9a-4ccd-a4ea-3ef1462fb51e",
   "metadata": {},
   "outputs": [
    {
     "data": {
      "text/html": [
       "<div>\n",
       "<style scoped>\n",
       "    .dataframe tbody tr th:only-of-type {\n",
       "        vertical-align: middle;\n",
       "    }\n",
       "\n",
       "    .dataframe tbody tr th {\n",
       "        vertical-align: top;\n",
       "    }\n",
       "\n",
       "    .dataframe thead th {\n",
       "        text-align: right;\n",
       "    }\n",
       "</style>\n",
       "<table border=\"1\" class=\"dataframe\">\n",
       "  <thead>\n",
       "    <tr style=\"text-align: right;\">\n",
       "      <th></th>\n",
       "      <th>CODE</th>\n",
       "      <th>COUNTRY</th>\n",
       "      <th>DATE</th>\n",
       "      <th>DATE2</th>\n",
       "      <th>HDI</th>\n",
       "      <th>TC</th>\n",
       "      <th>TD</th>\n",
       "      <th>STI</th>\n",
       "      <th>POP</th>\n",
       "      <th>GDPCAP</th>\n",
       "      <th>...</th>\n",
       "      <th>StringencyLegacyIndex</th>\n",
       "      <th>GovernmentResponseIndex</th>\n",
       "      <th>ContainmentHealthIndex</th>\n",
       "      <th>EconomicSupportIndex</th>\n",
       "      <th>Continent</th>\n",
       "      <th>total_cases</th>\n",
       "      <th>total_deaths</th>\n",
       "      <th>population</th>\n",
       "      <th>death_percentage</th>\n",
       "      <th>case_percentage</th>\n",
       "    </tr>\n",
       "  </thead>\n",
       "  <tbody>\n",
       "    <tr>\n",
       "      <th>0</th>\n",
       "      <td>AFG</td>\n",
       "      <td>Afghanistan</td>\n",
       "      <td>1/1/2020</td>\n",
       "      <td>1/1/2020</td>\n",
       "      <td>0.498</td>\n",
       "      <td>0.0</td>\n",
       "      <td>0.0</td>\n",
       "      <td>0.0</td>\n",
       "      <td>17.477233</td>\n",
       "      <td>7.497754</td>\n",
       "      <td>...</td>\n",
       "      <td>0.0</td>\n",
       "      <td>0.0</td>\n",
       "      <td>0.0</td>\n",
       "      <td>0.0</td>\n",
       "      <td>Asia</td>\n",
       "      <td>0.0</td>\n",
       "      <td>0.0</td>\n",
       "      <td>38928341</td>\n",
       "      <td>0.0</td>\n",
       "      <td>0.0</td>\n",
       "    </tr>\n",
       "    <tr>\n",
       "      <th>1</th>\n",
       "      <td>AFG</td>\n",
       "      <td>Afghanistan</td>\n",
       "      <td>1/2/2020</td>\n",
       "      <td>1/2/2020</td>\n",
       "      <td>0.498</td>\n",
       "      <td>0.0</td>\n",
       "      <td>0.0</td>\n",
       "      <td>0.0</td>\n",
       "      <td>17.477233</td>\n",
       "      <td>7.497754</td>\n",
       "      <td>...</td>\n",
       "      <td>0.0</td>\n",
       "      <td>0.0</td>\n",
       "      <td>0.0</td>\n",
       "      <td>0.0</td>\n",
       "      <td>Asia</td>\n",
       "      <td>0.0</td>\n",
       "      <td>0.0</td>\n",
       "      <td>38928341</td>\n",
       "      <td>0.0</td>\n",
       "      <td>0.0</td>\n",
       "    </tr>\n",
       "    <tr>\n",
       "      <th>2</th>\n",
       "      <td>AFG</td>\n",
       "      <td>Afghanistan</td>\n",
       "      <td>1/3/2020</td>\n",
       "      <td>1/3/2020</td>\n",
       "      <td>0.498</td>\n",
       "      <td>0.0</td>\n",
       "      <td>0.0</td>\n",
       "      <td>0.0</td>\n",
       "      <td>17.477233</td>\n",
       "      <td>7.497754</td>\n",
       "      <td>...</td>\n",
       "      <td>0.0</td>\n",
       "      <td>0.0</td>\n",
       "      <td>0.0</td>\n",
       "      <td>0.0</td>\n",
       "      <td>Asia</td>\n",
       "      <td>0.0</td>\n",
       "      <td>0.0</td>\n",
       "      <td>38928341</td>\n",
       "      <td>0.0</td>\n",
       "      <td>0.0</td>\n",
       "    </tr>\n",
       "  </tbody>\n",
       "</table>\n",
       "<p>3 rows × 55 columns</p>\n",
       "</div>"
      ],
      "text/plain": [
       "  CODE      COUNTRY      DATE     DATE2    HDI   TC   TD  STI        POP  \\\n",
       "0  AFG  Afghanistan  1/1/2020  1/1/2020  0.498  0.0  0.0  0.0  17.477233   \n",
       "1  AFG  Afghanistan  1/2/2020  1/2/2020  0.498  0.0  0.0  0.0  17.477233   \n",
       "2  AFG  Afghanistan  1/3/2020  1/3/2020  0.498  0.0  0.0  0.0  17.477233   \n",
       "\n",
       "     GDPCAP  ...  StringencyLegacyIndex  GovernmentResponseIndex  \\\n",
       "0  7.497754  ...                    0.0                      0.0   \n",
       "1  7.497754  ...                    0.0                      0.0   \n",
       "2  7.497754  ...                    0.0                      0.0   \n",
       "\n",
       "   ContainmentHealthIndex  EconomicSupportIndex  Continent  total_cases  \\\n",
       "0                     0.0                   0.0       Asia          0.0   \n",
       "1                     0.0                   0.0       Asia          0.0   \n",
       "2                     0.0                   0.0       Asia          0.0   \n",
       "\n",
       "   total_deaths  population  death_percentage  case_percentage  \n",
       "0           0.0    38928341               0.0              0.0  \n",
       "1           0.0    38928341               0.0              0.0  \n",
       "2           0.0    38928341               0.0              0.0  \n",
       "\n",
       "[3 rows x 55 columns]"
      ]
     },
     "execution_count": 92,
     "metadata": {},
     "output_type": "execute_result"
    }
   ],
   "source": [
    "main_data = pd.read_csv('final_dataset_copy.csv')\n",
    "main_data.head(3)"
   ]
  },
  {
   "cell_type": "code",
   "execution_count": 93,
   "id": "40e2a343-58fb-45c5-9d75-9d3875d270f5",
   "metadata": {},
   "outputs": [
    {
     "data": {
      "text/plain": [
       "80082"
      ]
     },
     "execution_count": 93,
     "metadata": {},
     "output_type": "execute_result"
    }
   ],
   "source": [
    "len(main_data)"
   ]
  },
  {
   "cell_type": "code",
   "execution_count": 80,
   "id": "70cf4fd0-0bda-4b5e-a123-8637ddca195a",
   "metadata": {
    "tags": []
   },
   "outputs": [],
   "source": [
    "fixed_combined = pd.merge(main_data, non_missing, left_on=['COUNTRY', 'DATE'], right_on=['CountryName', 'Date_Fixed'])"
   ]
  },
  {
   "cell_type": "code",
   "execution_count": 81,
   "id": "eee0e440-02fa-4b75-8af6-fcf20a0b3848",
   "metadata": {},
   "outputs": [
    {
     "data": {
      "text/plain": [
       "1428468"
      ]
     },
     "execution_count": 81,
     "metadata": {},
     "output_type": "execute_result"
    }
   ],
   "source": [
    "len(fixed_combined)"
   ]
  },
  {
   "cell_type": "code",
   "execution_count": 89,
   "id": "83f1da35-0a3f-43f3-9c8a-2d521232513f",
   "metadata": {},
   "outputs": [
    {
     "name": "stdout",
     "output_type": "stream",
     "text": [
      "['Afghanistan' 'Albania' 'Algeria' 'Andorra' 'Angola' 'Argentina' 'Aruba'\n",
      " 'Australia' 'Austria' 'Azerbaijan' 'Bahamas' 'Bahrain' 'Bangladesh'\n",
      " 'Barbados' 'Belarus' 'Belgium' 'Belize' 'Benin' 'Bermuda' 'Bhutan'\n",
      " 'Bolivia' 'Bosnia and Herzegovina' 'Botswana' 'Brazil' 'Brunei'\n",
      " 'Bulgaria' 'Burkina Faso' 'Burundi' 'Cambodia' 'Cameroon' 'Canada'\n",
      " 'Cape Verde' 'Central African Republic' 'Chad' 'Chile' 'China' 'Colombia'\n",
      " 'Comoros' 'Congo' 'Costa Rica' \"Cote d'Ivoire\" 'Croatia' 'Cuba' 'Cyprus'\n",
      " 'Czech Republic' 'Democratic Republic of Congo' 'Denmark' 'Djibouti'\n",
      " 'Dominica' 'Dominican Republic' 'Ecuador' 'Egypt' 'El Salvador' 'Eritrea'\n",
      " 'Estonia' 'Ethiopia' 'Faeroe Islands' 'Fiji' 'Finland' 'France' 'Gabon'\n",
      " 'Gambia' 'Georgia' 'Germany' 'Ghana' 'Greece' 'Greenland' 'Guam'\n",
      " 'Guatemala' 'Guinea' 'Guyana' 'Haiti' 'Honduras' 'Hong Kong' 'Hungary'\n",
      " 'Iceland' 'India' 'Indonesia' 'Iran' 'Iraq' 'Ireland' 'Israel' 'Italy'\n",
      " 'Jamaica' 'Japan' 'Jordan' 'Kazakhstan' 'Kenya' 'Kosovo' 'Kuwait' 'Laos'\n",
      " 'Latvia' 'Lebanon' 'Lesotho' 'Liberia' 'Libya' 'Liechtenstein'\n",
      " 'Lithuania' 'Luxembourg' 'Madagascar' 'Malawi' 'Malaysia' 'Mali' 'Malta'\n",
      " 'Mauritania' 'Mauritius' 'Mexico' 'Moldova' 'Monaco' 'Mongolia' 'Morocco'\n",
      " 'Mozambique' 'Myanmar' 'Namibia' 'Nepal' 'Netherlands' 'New Zealand'\n",
      " 'Nicaragua' 'Niger' 'Nigeria' 'Norway' 'Oman' 'Pakistan' 'Palestine'\n",
      " 'Panama' 'Papua New Guinea' 'Paraguay' 'Peru' 'Philippines' 'Poland'\n",
      " 'Portugal' 'Puerto Rico' 'Qatar' 'Romania' 'Russia' 'Rwanda' 'San Marino'\n",
      " 'Saudi Arabia' 'Senegal' 'Serbia' 'Seychelles' 'Sierra Leone' 'Singapore'\n",
      " 'Slovenia' 'Solomon Islands' 'Somalia' 'South Africa' 'South Korea'\n",
      " 'South Sudan' 'Spain' 'Sri Lanka' 'Sudan' 'Suriname' 'Sweden'\n",
      " 'Switzerland' 'Syria' 'Taiwan' 'Tajikistan' 'Tanzania' 'Thailand' 'Togo'\n",
      " 'Trinidad and Tobago' 'Tunisia' 'Turkey' 'Uganda' 'Ukraine'\n",
      " 'United Arab Emirates' 'United Kingdom' 'United States'\n",
      " 'United States Virgin Islands' 'Uruguay' 'Uzbekistan' 'Venezuela'\n",
      " 'Vietnam' 'Yemen' 'Zambia' 'Zimbabwe']\n"
     ]
    }
   ],
   "source": [
    "print(fixed_combined.COUNTRY.unique())"
   ]
  },
  {
   "cell_type": "code",
   "execution_count": 71,
   "id": "e753cd05-c690-4432-8b2f-45ef8e5738fe",
   "metadata": {},
   "outputs": [
    {
     "ename": "PermissionError",
     "evalue": "[Errno 13] Permission denied: 'fixed_main.csv'",
     "output_type": "error",
     "traceback": [
      "\u001b[1;31m---------------------------------------------------------------------------\u001b[0m",
      "\u001b[1;31mPermissionError\u001b[0m                           Traceback (most recent call last)",
      "\u001b[1;32m~\\AppData\\Local\\Temp/ipykernel_21824/2552511893.py\u001b[0m in \u001b[0;36m<module>\u001b[1;34m\u001b[0m\n\u001b[1;32m----> 1\u001b[1;33m \u001b[0mfixed_combined\u001b[0m\u001b[1;33m.\u001b[0m\u001b[0mto_csv\u001b[0m\u001b[1;33m(\u001b[0m\u001b[1;34m'fixed_main.csv'\u001b[0m\u001b[1;33m,\u001b[0m \u001b[0mindex\u001b[0m\u001b[1;33m=\u001b[0m\u001b[1;32mFalse\u001b[0m\u001b[1;33m)\u001b[0m\u001b[1;33m\u001b[0m\u001b[1;33m\u001b[0m\u001b[0m\n\u001b[0m",
      "\u001b[1;32m~\\anaconda3\\lib\\site-packages\\pandas\\core\\generic.py\u001b[0m in \u001b[0;36mto_csv\u001b[1;34m(self, path_or_buf, sep, na_rep, float_format, columns, header, index, index_label, mode, encoding, compression, quoting, quotechar, line_terminator, chunksize, date_format, doublequote, escapechar, decimal, errors, storage_options)\u001b[0m\n\u001b[0;32m   3464\u001b[0m         )\n\u001b[0;32m   3465\u001b[0m \u001b[1;33m\u001b[0m\u001b[0m\n\u001b[1;32m-> 3466\u001b[1;33m         return DataFrameRenderer(formatter).to_csv(\n\u001b[0m\u001b[0;32m   3467\u001b[0m             \u001b[0mpath_or_buf\u001b[0m\u001b[1;33m,\u001b[0m\u001b[1;33m\u001b[0m\u001b[1;33m\u001b[0m\u001b[0m\n\u001b[0;32m   3468\u001b[0m             \u001b[0mline_terminator\u001b[0m\u001b[1;33m=\u001b[0m\u001b[0mline_terminator\u001b[0m\u001b[1;33m,\u001b[0m\u001b[1;33m\u001b[0m\u001b[1;33m\u001b[0m\u001b[0m\n",
      "\u001b[1;32m~\\anaconda3\\lib\\site-packages\\pandas\\io\\formats\\format.py\u001b[0m in \u001b[0;36mto_csv\u001b[1;34m(self, path_or_buf, encoding, sep, columns, index_label, mode, compression, quoting, quotechar, line_terminator, chunksize, date_format, doublequote, escapechar, errors, storage_options)\u001b[0m\n\u001b[0;32m   1103\u001b[0m             \u001b[0mformatter\u001b[0m\u001b[1;33m=\u001b[0m\u001b[0mself\u001b[0m\u001b[1;33m.\u001b[0m\u001b[0mfmt\u001b[0m\u001b[1;33m,\u001b[0m\u001b[1;33m\u001b[0m\u001b[1;33m\u001b[0m\u001b[0m\n\u001b[0;32m   1104\u001b[0m         )\n\u001b[1;32m-> 1105\u001b[1;33m         \u001b[0mcsv_formatter\u001b[0m\u001b[1;33m.\u001b[0m\u001b[0msave\u001b[0m\u001b[1;33m(\u001b[0m\u001b[1;33m)\u001b[0m\u001b[1;33m\u001b[0m\u001b[1;33m\u001b[0m\u001b[0m\n\u001b[0m\u001b[0;32m   1106\u001b[0m \u001b[1;33m\u001b[0m\u001b[0m\n\u001b[0;32m   1107\u001b[0m         \u001b[1;32mif\u001b[0m \u001b[0mcreated_buffer\u001b[0m\u001b[1;33m:\u001b[0m\u001b[1;33m\u001b[0m\u001b[1;33m\u001b[0m\u001b[0m\n",
      "\u001b[1;32m~\\anaconda3\\lib\\site-packages\\pandas\\io\\formats\\csvs.py\u001b[0m in \u001b[0;36msave\u001b[1;34m(self)\u001b[0m\n\u001b[0;32m    235\u001b[0m         \"\"\"\n\u001b[0;32m    236\u001b[0m         \u001b[1;31m# apply compression and byte/text conversion\u001b[0m\u001b[1;33m\u001b[0m\u001b[1;33m\u001b[0m\u001b[0m\n\u001b[1;32m--> 237\u001b[1;33m         with get_handle(\n\u001b[0m\u001b[0;32m    238\u001b[0m             \u001b[0mself\u001b[0m\u001b[1;33m.\u001b[0m\u001b[0mfilepath_or_buffer\u001b[0m\u001b[1;33m,\u001b[0m\u001b[1;33m\u001b[0m\u001b[1;33m\u001b[0m\u001b[0m\n\u001b[0;32m    239\u001b[0m             \u001b[0mself\u001b[0m\u001b[1;33m.\u001b[0m\u001b[0mmode\u001b[0m\u001b[1;33m,\u001b[0m\u001b[1;33m\u001b[0m\u001b[1;33m\u001b[0m\u001b[0m\n",
      "\u001b[1;32m~\\anaconda3\\lib\\site-packages\\pandas\\io\\common.py\u001b[0m in \u001b[0;36mget_handle\u001b[1;34m(path_or_buf, mode, encoding, compression, memory_map, is_text, errors, storage_options)\u001b[0m\n\u001b[0;32m    700\u001b[0m         \u001b[1;32mif\u001b[0m \u001b[0mioargs\u001b[0m\u001b[1;33m.\u001b[0m\u001b[0mencoding\u001b[0m \u001b[1;32mand\u001b[0m \u001b[1;34m\"b\"\u001b[0m \u001b[1;32mnot\u001b[0m \u001b[1;32min\u001b[0m \u001b[0mioargs\u001b[0m\u001b[1;33m.\u001b[0m\u001b[0mmode\u001b[0m\u001b[1;33m:\u001b[0m\u001b[1;33m\u001b[0m\u001b[1;33m\u001b[0m\u001b[0m\n\u001b[0;32m    701\u001b[0m             \u001b[1;31m# Encoding\u001b[0m\u001b[1;33m\u001b[0m\u001b[1;33m\u001b[0m\u001b[0m\n\u001b[1;32m--> 702\u001b[1;33m             handle = open(\n\u001b[0m\u001b[0;32m    703\u001b[0m                 \u001b[0mhandle\u001b[0m\u001b[1;33m,\u001b[0m\u001b[1;33m\u001b[0m\u001b[1;33m\u001b[0m\u001b[0m\n\u001b[0;32m    704\u001b[0m                 \u001b[0mioargs\u001b[0m\u001b[1;33m.\u001b[0m\u001b[0mmode\u001b[0m\u001b[1;33m,\u001b[0m\u001b[1;33m\u001b[0m\u001b[1;33m\u001b[0m\u001b[0m\n",
      "\u001b[1;31mPermissionError\u001b[0m: [Errno 13] Permission denied: 'fixed_main.csv'"
     ]
    }
   ],
   "source": [
    "fixed_combined.to_csv('fixed_main.csv', index=False)"
   ]
  },
  {
   "cell_type": "code",
   "execution_count": null,
   "id": "e800adb4-4568-4e82-b949-a8ac087e63b1",
   "metadata": {
    "tags": []
   },
   "outputs": [],
   "source": [
    "combined_countries = pd.merge(kaggle_df, democracy_df, left_on=['COUNTRY', 'DATE'], right_on=['CountryName', 'Date'])\n",
    "combined_countries.head(3)"
   ]
  },
  {
   "cell_type": "code",
   "execution_count": 95,
   "id": "e487ac14-05c6-4437-b3c6-89a051ccae31",
   "metadata": {},
   "outputs": [
    {
     "ename": "NameError",
     "evalue": "name 'associations' is not defined",
     "output_type": "error",
     "traceback": [
      "\u001b[1;31m---------------------------------------------------------------------------\u001b[0m",
      "\u001b[1;31mNameError\u001b[0m                                 Traceback (most recent call last)",
      "\u001b[1;32m~\\AppData\\Local\\Temp/ipykernel_21824/259335770.py\u001b[0m in \u001b[0;36m<module>\u001b[1;34m\u001b[0m\n\u001b[1;32m----> 1\u001b[1;33m association_1 = associations(final_data_categorical[['HDI', 'POP', 'GDPCAP', 'H2_Testing policy', 'H4_Emergency investment in healthcare', 'H5_Investment in vaccines','H6_Facial Coverings', 'H7_Vaccination policy', 'ConfirmedCases', \n\u001b[0m\u001b[0;32m      2\u001b[0m             'ContainmentHealthIndex', 'ConfirmedDeaths']])\n\u001b[0;32m      3\u001b[0m \u001b[0massociation_1\u001b[0m\u001b[1;33m.\u001b[0m\u001b[0mset_size_inches\u001b[0m\u001b[1;33m(\u001b[0m\u001b[1;36m10\u001b[0m\u001b[1;33m,\u001b[0m \u001b[1;36m8\u001b[0m\u001b[1;33m)\u001b[0m\u001b[1;33m\u001b[0m\u001b[1;33m\u001b[0m\u001b[0m\n",
      "\u001b[1;31mNameError\u001b[0m: name 'associations' is not defined"
     ]
    }
   ],
   "source": [
    "association_1 = associations(final_data_categorical[['HDI', 'POP', 'GDPCAP', 'H2_Testing policy', 'H4_Emergency investment in healthcare', 'H5_Investment in vaccines','H6_Facial Coverings', 'H7_Vaccination policy', 'ConfirmedCases', \n",
    "            'ContainmentHealthIndex', 'ConfirmedDeaths']])\n",
    "association_1.set_size_inches(10, 8)"
   ]
  },
  {
   "cell_type": "code",
   "execution_count": null,
   "id": "5280cace-fca6-4726-98d1-671d6f0d9525",
   "metadata": {},
   "outputs": [],
   "source": [
    "figure1 = px.scatter(october_19_2020, x = \"StringencyIndex\", y = \"ConfirmedCases\", size = \"POP\",\n",
    "          hover_name = \"COUNTRY\", color_discrete_map = {\n",
    "              'Asia' : 'slateblue',\n",
    "              'Europe' : 'darkslateblue',\n",
    "              'Africa' : 'royalblue',\n",
    "              'South America' : 'navy',\n",
    "              'Oceania' : 'lightsteelblue',\n",
    "              'North America' : 'deepskyblue'\n",
    "          }, template = \"simple_white\",\n",
    "          size_max = 10)\n",
    "figure1.update_layout(height = 200,\n",
    "                 title_text = \"Comparison between a Country's Stringency Index and Confirmed Cases\"\n",
    "                 )\n",
    "figure1.show()"
   ]
  },
  {
   "cell_type": "code",
   "execution_count": 94,
   "id": "97bb4c65-064f-4cdc-ac51-e553b0bb71c0",
   "metadata": {},
   "outputs": [
    {
     "ename": "NameError",
     "evalue": "name 'final_data' is not defined",
     "output_type": "error",
     "traceback": [
      "\u001b[1;31m---------------------------------------------------------------------------\u001b[0m",
      "\u001b[1;31mNameError\u001b[0m                                 Traceback (most recent call last)",
      "\u001b[1;32m~\\AppData\\Local\\Temp/ipykernel_21824/2237093462.py\u001b[0m in \u001b[0;36m<module>\u001b[1;34m\u001b[0m\n\u001b[1;32m----> 1\u001b[1;33m \u001b[0moctober_19_2020\u001b[0m \u001b[1;33m=\u001b[0m \u001b[0mfinal_data\u001b[0m\u001b[1;33m.\u001b[0m\u001b[0mloc\u001b[0m\u001b[1;33m[\u001b[0m\u001b[1;33m(\u001b[0m\u001b[0mfinal_data\u001b[0m\u001b[1;33m[\u001b[0m\u001b[1;34m'DATE'\u001b[0m\u001b[1;33m]\u001b[0m \u001b[1;33m==\u001b[0m \u001b[1;34m'2020-10-19'\u001b[0m\u001b[1;33m)\u001b[0m\u001b[1;33m]\u001b[0m\u001b[1;33m\u001b[0m\u001b[1;33m\u001b[0m\u001b[0m\n\u001b[0m\u001b[0;32m      2\u001b[0m \u001b[0moctober_19_2020\u001b[0m\u001b[1;33m.\u001b[0m\u001b[0mhead\u001b[0m\u001b[1;33m(\u001b[0m\u001b[1;36m6\u001b[0m\u001b[1;33m)\u001b[0m\u001b[1;33m\u001b[0m\u001b[1;33m\u001b[0m\u001b[0m\n",
      "\u001b[1;31mNameError\u001b[0m: name 'final_data' is not defined"
     ]
    }
   ],
   "source": [
    "october_19_2020 = final_data.loc[(final_data['DATE'] == '2020-10-19')]\n",
    "october_19_2020.head(6)"
   ]
  },
  {
   "cell_type": "code",
   "execution_count": null,
   "id": "7b38864b-3c8d-46f8-a97b-8cdc505a1392",
   "metadata": {},
   "outputs": [],
   "source": [
    "march_30_2020 = final_data.loc[(final_data['DATE'] == '2020-03-30')]\n",
    "march_30_2020.head(6)"
   ]
  },
  {
   "cell_type": "code",
   "execution_count": 1,
   "id": "03eda613-96cd-4651-bf15-32f65dea6d06",
   "metadata": {},
   "outputs": [
    {
     "ename": "NameError",
     "evalue": "name 'pd' is not defined",
     "output_type": "error",
     "traceback": [
      "\u001b[1;31m---------------------------------------------------------------------------\u001b[0m",
      "\u001b[1;31mNameError\u001b[0m                                 Traceback (most recent call last)",
      "\u001b[1;32m<ipython-input-1-a23c73b5d0d5>\u001b[0m in \u001b[0;36m<module>\u001b[1;34m\u001b[0m\n\u001b[1;32m----> 1\u001b[1;33m \u001b[0mmarch_v_october\u001b[0m \u001b[1;33m=\u001b[0m \u001b[0mpd\u001b[0m\u001b[1;33m.\u001b[0m\u001b[0mmerge\u001b[0m\u001b[1;33m(\u001b[0m\u001b[0mmarch_30_2020\u001b[0m\u001b[1;33m,\u001b[0m \u001b[0moctober_19_2020\u001b[0m\u001b[1;33m,\u001b[0m \u001b[0mleft_on\u001b[0m\u001b[1;33m=\u001b[0m\u001b[1;33m[\u001b[0m\u001b[1;34m'COUNTRY'\u001b[0m\u001b[1;33m]\u001b[0m\u001b[1;33m,\u001b[0m \u001b[0mright_on\u001b[0m\u001b[1;33m=\u001b[0m\u001b[1;33m[\u001b[0m\u001b[1;34m'COUNTRY'\u001b[0m\u001b[1;33m]\u001b[0m\u001b[1;33m)\u001b[0m\u001b[1;33m\u001b[0m\u001b[1;33m\u001b[0m\u001b[0m\n\u001b[0m\u001b[0;32m      2\u001b[0m \u001b[0mmarch_v_october\u001b[0m\u001b[1;33m.\u001b[0m\u001b[0mhead\u001b[0m\u001b[1;33m(\u001b[0m\u001b[1;36m3\u001b[0m\u001b[1;33m)\u001b[0m\u001b[1;33m\u001b[0m\u001b[1;33m\u001b[0m\u001b[0m\n",
      "\u001b[1;31mNameError\u001b[0m: name 'pd' is not defined"
     ]
    }
   ],
   "source": [
    "march_v_october = pd.merge(march_30_2020, october_19_2020, left_on=['COUNTRY'], right_on=['COUNTRY'])\n",
    "march_v_october.head(3)"
   ]
  },
  {
   "cell_type": "code",
   "execution_count": null,
   "id": "b8c8ed1f-834a-442c-b0e0-cad4a4053236",
   "metadata": {},
   "outputs": [],
   "source": [
    "plt.figure(figsize=(8, 4))\n",
    "plt.title('Stringency Index Distribution')\n",
    "plt.hist(october_19_2020.StringencyIndex, color = 'purple');\n",
    "plt.xlabel('Stringency Score')\n",
    "plt.ylabel('Number of Countries')"
   ]
  },
  {
   "cell_type": "code",
   "execution_count": null,
   "id": "43ea8ad6-1d3c-4eec-89a4-430a50c1a2ed",
   "metadata": {},
   "outputs": [],
   "source": [
    "plt.figure(figsize=(8, 4))\n",
    "plt.title('Stringency Index Distribution')\n",
    "plt.hist(march_30_2020.StringencyIndex, color = 'purple')\n",
    "plt.xlabel('Stringency Score')\n",
    "plt.ylabel('Number of Countries')"
   ]
  },
  {
   "cell_type": "code",
   "execution_count": null,
   "id": "d0dd6633-f8e4-493d-a207-5072f741d53d",
   "metadata": {},
   "outputs": [],
   "source": [
    "df_deaths = pd.pivot_table(data = final_data, \n",
    "                    index = pd.DatetimeIndex(final_data.DATE).month,\n",
    "                    values = 'ConfirmedDeaths',\n",
    "                    columns = pd.DatetimeIndex(final_data.DATE).day)\n",
    "\n",
    "plt.figure(figsize = (30, 10))\n",
    "sns.heatmap(df_deaths, cmap = 'Reds');\n",
    "plt.title('Deaths Over Time', size = 20)"
   ]
  },
  {
   "cell_type": "code",
   "execution_count": null,
   "id": "f7aae9f0-fa60-4349-b76e-b0c5383a2d87",
   "metadata": {},
   "outputs": [],
   "source": [
    "df_deaths2 = pd.pivot_table(data = final_data, \n",
    "                    index = 'Continent',\n",
    "                    values = 'TD',\n",
    "                    columns = 'DATE')\n",
    "\n",
    "plt.figure(figsize = (30, 10))\n",
    "sns.heatmap(df_deaths2, cmap = 'Reds');\n",
    "plt.title('Deaths Over Time', size = 20)"
   ]
  },
  {
   "cell_type": "code",
   "execution_count": null,
   "id": "1531998c-6876-46e7-8e81-befa473d3c3c",
   "metadata": {},
   "outputs": [],
   "source": [
    "df_cases3 = pd.pivot_table(data = final_data, \n",
    "                    index = 'Continent',\n",
    "                    values = 'case_percentage',\n",
    "                    columns = 'DATE')\n",
    "\n",
    "plt.figure(figsize = (20, 7))\n",
    "sns.heatmap(df_cases3, cmap = 'Reds');\n",
    "plt.title('Cases Over Time', size = 20)"
   ]
  },
  {
   "cell_type": "code",
   "execution_count": null,
   "id": "2b025c83-2bb8-4805-9cf3-2e135ab0ba60",
   "metadata": {},
   "outputs": [],
   "source": [
    "vdem_simple.columns[3:20]"
   ]
  },
  {
   "cell_type": "code",
   "execution_count": null,
   "id": "f7da839c-fb0c-47bb-a697-3ff672549399",
   "metadata": {},
   "outputs": [],
   "source": [
    "grouped_test = vdem_simple.groupby(['Continent', 'year'])[['v2x_libdem', 'v2x_polyarchy', 'v2x_egaldem', 'v2x_freexp_altinf',\n",
    "       'v2x_frassoc_thick', 'v2x_suffr', 'v2xel_frefair', 'v2x_elecoff',\n",
    "       'v2xcl_rol', 'v2x_cspart', 'v2xeg_eqprotec', 'v2xeg_eqaccess',\n",
    "       'v2xeg_eqdr', 'v2x_partipdem', 'v2xdd_dd', 'v2xel_regelec', 'v2x_egal']].sum()\n",
    "grouped_test.columns = ['v2x_libdem', 'v2x_polyarchy', 'v2x_egaldem', 'v2x_freexp_altinf',\n",
    "       'v2x_frassoc_thick', 'v2x_suffr', 'v2xel_frefair', 'v2x_elecoff',\n",
    "       'v2xcl_rol', 'v2x_cspart', 'v2xeg_eqprotec', 'v2xeg_eqaccess',\n",
    "       'v2xeg_eqdr', 'v2x_partipdem', 'v2xdd_dd', 'v2xel_regelec', 'v2x_egal']\n",
    "grouped_test = grouped_test.reset_index()\n",
    "grouped_test.head(10)"
   ]
  },
  {
   "cell_type": "code",
   "execution_count": null,
   "id": "e960c0e2-834e-42d1-9d3e-39f1c118b177",
   "metadata": {},
   "outputs": [],
   "source": [
    "from plotly.subplots import make_subplots\n",
    "import plotly.graph_objects as go"
   ]
  },
  {
   "cell_type": "code",
   "execution_count": null,
   "id": "996359a1-59ce-4840-a98a-0808f82de6ef",
   "metadata": {},
   "outputs": [],
   "source": [
    "list_vdem = grouped_test.columns[2:20].tolist()\n",
    "print(list_vdem)"
   ]
  },
  {
   "cell_type": "code",
   "execution_count": null,
   "id": "65f5637b-bc62-4139-9c3b-f86caa9d1e5d",
   "metadata": {},
   "outputs": [],
   "source": [
    "fig = make_subplots(rows = 6)\n",
    "count = 0\n",
    "for i in list_vdem:\n",
    "    count += 1\n",
    "    fig.add_trace(go.Scatter(x = grouped_test['year'], y = grouped_test[i].values,\n",
    "                             fill = 'Continent', \n",
    "                             color_discrete_sequence = ['slateblue', 'darkslateblue', 'royalblue', 'navy', 'lightsteelblue', 'darkmagenta'],\n",
    "                 \n",
    "                             labels = {i : \"Egalitarian Democracy Score\",\n",
    "                                 'year': 'Year'\n",
    "                             },\n",
    "                             mode = 'lines',\n",
    "                             template = 'simple_white',\n",
    "                 \n",
    "                             row = count))\n",
    "    \n",
    "\n",
    "#egalitarian_democracy_continent.update_xaxes(range = [1895, 2020])\n",
    "fig.update_layout(height = 20000, width = 800)\n",
    "fig.show()"
   ]
  },
  {
   "cell_type": "code",
   "execution_count": null,
   "id": "10a741b2-f60d-47b2-921d-a5341cc60c61",
   "metadata": {},
   "outputs": [],
   "source": [
    "plot_rows = 3\n",
    "plot_cols = 2\n",
    "\n",
    "lst1 = list(range(1, plot_rows + 1))\n",
    "lst2 = list(range(1, plot_cols + 1))\n",
    "\n",
    "fig = make_subplots(rows = 6, cols = 1, subplot_titles = grouped_test.columns[2:20].tolist())\n",
    "x = 1\n",
    "for i in lst1:\n",
    "    for j in lst2:\n",
    "        fig.add_trace(go.Scatter(x = grouped_test.year, \n",
    "                                 y = grouped_test[grouped_test.columns[x + 1]].values,\n",
    "                                name = grouped_test.columns[x + 1],\n",
    "                                mode = 'lines')),\n",
    "        row = x\n",
    "        col = 1\n",
    "        x = x + 1\n",
    "    \n",
    "fig.update_layout(height = 20000, width = 800)\n",
    "fig.show()"
   ]
  }
 ],
 "metadata": {
  "kernelspec": {
   "display_name": "Python 3 (ipykernel)",
   "language": "python",
   "name": "python3"
  },
  "language_info": {
   "codemirror_mode": {
    "name": "ipython",
    "version": 3
   },
   "file_extension": ".py",
   "mimetype": "text/x-python",
   "name": "python",
   "nbconvert_exporter": "python",
   "pygments_lexer": "ipython3",
   "version": "3.9.7"
  }
 },
 "nbformat": 4,
 "nbformat_minor": 5
}
